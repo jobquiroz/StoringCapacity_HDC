{
 "cells": [
  {
   "cell_type": "markdown",
   "metadata": {},
   "source": [
    "### Storing capability experiments for Hyperdimensional binary vectors.\n",
    "\n",
    "In this notebook rather than using information from a real-world dataset like ConceptNet or WordNet, we create 'artificial' representations. The reason is that artificially created semantic features simplify the program. "
   ]
  },
  {
   "cell_type": "markdown",
   "metadata": {},
   "source": [
    "#### Libraries"
   ]
  },
  {
   "cell_type": "code",
   "execution_count": 10,
   "metadata": {},
   "outputs": [],
   "source": [
    "import pandas as pd\n",
    "import csv\n",
    "import string\n",
    "import matplotlib.pyplot as plt\n",
    "import statistics \n",
    "import random\n",
    "\n",
    "import seaborn as sns\n",
    "sns.set_style('white')\n",
    "\n",
    "%run EncodingDataset.ipynb\n",
    "%matplotlib inline"
   ]
  },
  {
   "cell_type": "markdown",
   "metadata": {},
   "source": [
    "### Experiment 1.\n",
    "#### One relation - one feature.\n",
    "\n",
    "In this experiments we measure the storing capability of HD vectors by storing semantic features of the following form: \n",
    "\n",
    "$$Semantic Feature = Relation_0 · Feature_0 + ... + Relation_n · Feature_n $$\n",
    "\n",
    "We change the notation for:\n",
    "\n",
    "$$SemFeat = A·a + B·b + ... + Z·z$$\n",
    "\n",
    "After encoding and storing these artificially generated semantic features, we proceed to recover the **feature value** (lowercase variables) by multiplying for the **relation literals** (uppercase):\n",
    "\n",
    "$$A · SemFeat = a + noise$$"
   ]
  },
  {
   "cell_type": "markdown",
   "metadata": {},
   "source": [
    "### Auxiliar functions\n",
    "\n",
    "#### Generating literals (upper or lowercase)"
   ]
  },
  {
   "cell_type": "code",
   "execution_count": 11,
   "metadata": {},
   "outputs": [],
   "source": [
    "def list_symbols (n, rel_or_feat):\n",
    "    \"\"\"n is the number of symbols the returning list will have. \\ \n",
    "    if n < 26, output: 'A',...'Z'... 26 < n < 52 'AA', 'AB',... 'AZ'\"\"\"\n",
    "    if rel_or_feat == \"rel\":\n",
    "        StringUpper = string.ascii_uppercase\n",
    "    elif rel_or_feat == 'feat':\n",
    "        StringUpper = string.ascii_lowercase\n",
    "    \n",
    "    if n <= 26:\n",
    "        return list( StringUpper[:n] )\n",
    "    else:\n",
    "        L = list(StringUpper[:n])\n",
    "        for i in range(n // 26):\n",
    "            l_aux = [StringUpper[i] + x for x in StringUpper[0: n - (i+1)*26]]\n",
    "            L.extend(l_aux)\n",
    "    return L\n"
   ]
  },
  {
   "cell_type": "markdown",
   "metadata": {},
   "source": [
    "### Single test"
   ]
  },
  {
   "cell_type": "code",
   "execution_count": 12,
   "metadata": {},
   "outputs": [
    {
     "name": "stdout",
     "output_type": "stream",
     "text": [
      "Total retrieved pairs: 15\n",
      "Percentage: 100.0 %\n"
     ]
    }
   ],
   "source": [
    "# Selecting dimmensionality of HD vectors\n",
    "N = 10000\n",
    "# Selecting number of pairs:\n",
    "n_pair = 15\n",
    "\n",
    "# Generating lower and upper case symbols\n",
    "relations = list_symbols(n_pair, \"rel\")\n",
    "feats = list_symbols(n_pair, \"feat\")\n",
    "\n",
    "# Creating the concepts definition on appropiate format.\n",
    "feat_list = list(map(list, zip(relations,feats)))\n",
    "FeatMatt = [[['concepto', x[0], x[1]] for x in feat_list]]\n",
    "\n",
    "# Encoding HD vectors  \n",
    "Init_mem( ['concepto'] + relations + feats, FeatMatt, 2, N)\n",
    "\n",
    "## Retrieving information\n",
    "counter = 0 # Success counter\n",
    "\n",
    "for rel in relations:\n",
    "    retrieve = Dict['concepto'] ** Dict[rel]\n",
    "    retrievedSP = retrieve.getLabelID()\n",
    "    if len(retrievedSP) == 1 and retrievedSP[0][0] == rel.lower():\n",
    "        counter += 1\n",
    "\n",
    "print('Total retrieved pairs:', counter)\n",
    "print('Percentage: {} %'.format( counter / len(relations) * 100 ))"
   ]
  },
  {
   "cell_type": "markdown",
   "metadata": {},
   "source": [
    "### Main Loop for several tests\n",
    "\n",
    "We also measure the precision and recall of the readings."
   ]
  },
  {
   "cell_type": "code",
   "execution_count": 13,
   "metadata": {},
   "outputs": [
    {
     "name": "stdout",
     "output_type": "stream",
     "text": [
      "\n",
      "Para N = 2000 y n_pair = 20: \n",
      "Precision: 1.0\n",
      "Recall: 1.0\n",
      "\n",
      "Para N = 2000 y n_pair = 25: \n",
      "Precision: 1.0\n",
      "Recall: 1.0\n",
      "\n",
      "Para N = 2000 y n_pair = 30: \n",
      "Precision: 0.9666666666666667\n",
      "Recall: 0.9666666666666667\n",
      "\n",
      "Para N = 2000 y n_pair = 35: \n",
      "Precision: 0.9142857142857143\n",
      "Recall: 0.9142857142857143\n",
      "\n",
      "Para N = 2000 y n_pair = 40: \n",
      "Precision: 0.875\n",
      "Recall: 0.875\n",
      "\n",
      "Para N = 2000 y n_pair = 45: \n",
      "Precision: 0.7\n",
      "Recall: 0.7111111111111111\n",
      "\n",
      "Para N = 2000 y n_pair = 50: \n",
      "Precision: 0.66\n",
      "Recall: 0.66\n",
      "\n",
      "Para N = 2000 y n_pair = 55: \n",
      "Precision: 0.7090909090909091\n",
      "Recall: 0.7090909090909091\n",
      "\n",
      "Para N = 2000 y n_pair = 60: \n",
      "Precision: 0.5\n",
      "Recall: 0.5\n",
      "\n",
      "Para N = 2000 y n_pair = 65: \n",
      "Precision: 0.4307692307692308\n",
      "Recall: 0.4307692307692308\n",
      "\n",
      "Para N = 2000 y n_pair = 70: \n",
      "Precision: 0.44285714285714284\n",
      "Recall: 0.44285714285714284\n",
      "\n",
      "Para N = 2000 y n_pair = 75: \n",
      "Precision: 0.3333333333333333\n",
      "Recall: 0.3333333333333333\n",
      "\n",
      "Para N = 2000 y n_pair = 80: \n",
      "Precision: 0.3125\n",
      "Recall: 0.3125\n",
      "\n",
      "Para N = 5000 y n_pair = 20: \n",
      "Precision: 1.0\n",
      "Recall: 1.0\n",
      "\n",
      "Para N = 5000 y n_pair = 25: \n",
      "Precision: 1.0\n",
      "Recall: 1.0\n",
      "\n",
      "Para N = 5000 y n_pair = 30: \n",
      "Precision: 1.0\n",
      "Recall: 1.0\n",
      "\n",
      "Para N = 5000 y n_pair = 35: \n",
      "Precision: 1.0\n",
      "Recall: 1.0\n",
      "\n",
      "Para N = 5000 y n_pair = 40: \n",
      "Precision: 0.925\n",
      "Recall: 0.925\n",
      "\n",
      "Para N = 5000 y n_pair = 45: \n",
      "Precision: 0.8444444444444444\n",
      "Recall: 0.8444444444444444\n",
      "\n",
      "Para N = 5000 y n_pair = 50: \n",
      "Precision: 0.82\n",
      "Recall: 0.82\n",
      "\n",
      "Para N = 5000 y n_pair = 55: \n",
      "Precision: 0.5818181818181818\n",
      "Recall: 0.5818181818181818\n",
      "\n",
      "Para N = 5000 y n_pair = 60: \n",
      "Precision: 0.6333333333333333\n",
      "Recall: 0.6333333333333333\n",
      "\n",
      "Para N = 5000 y n_pair = 65: \n",
      "Precision: 0.47692307692307695\n",
      "Recall: 0.47692307692307695\n",
      "\n",
      "Para N = 5000 y n_pair = 70: \n",
      "Precision: 0.37142857142857144\n",
      "Recall: 0.37142857142857144\n",
      "\n",
      "Para N = 5000 y n_pair = 75: \n",
      "Precision: 0.29333333333333333\n",
      "Recall: 0.29333333333333333\n",
      "\n",
      "Para N = 5000 y n_pair = 80: \n",
      "Precision: 0.2\n",
      "Recall: 0.2\n",
      "\n",
      "Para N = 7000 y n_pair = 20: \n",
      "Precision: 1.0\n",
      "Recall: 1.0\n",
      "\n",
      "Para N = 7000 y n_pair = 25: \n",
      "Precision: 1.0\n",
      "Recall: 1.0\n",
      "\n",
      "Para N = 7000 y n_pair = 30: \n",
      "Precision: 1.0\n",
      "Recall: 1.0\n",
      "\n",
      "Para N = 7000 y n_pair = 35: \n",
      "Precision: 1.0\n",
      "Recall: 1.0\n",
      "\n",
      "Para N = 7000 y n_pair = 40: \n",
      "Precision: 0.975\n",
      "Recall: 0.975\n",
      "\n",
      "Para N = 7000 y n_pair = 45: \n",
      "Precision: 0.9111111111111111\n",
      "Recall: 0.9111111111111111\n",
      "\n",
      "Para N = 7000 y n_pair = 50: \n",
      "Precision: 0.88\n",
      "Recall: 0.88\n",
      "\n",
      "Para N = 7000 y n_pair = 55: \n",
      "Precision: 0.7818181818181819\n",
      "Recall: 0.7818181818181819\n",
      "\n",
      "Para N = 7000 y n_pair = 60: \n",
      "Precision: 0.6333333333333333\n",
      "Recall: 0.6333333333333333\n",
      "\n",
      "Para N = 7000 y n_pair = 65: \n",
      "Precision: 0.49230769230769234\n",
      "Recall: 0.49230769230769234\n",
      "\n",
      "Para N = 7000 y n_pair = 70: \n",
      "Precision: 0.32857142857142857\n",
      "Recall: 0.32857142857142857\n",
      "\n",
      "Para N = 7000 y n_pair = 75: \n",
      "Precision: 0.22666666666666666\n",
      "Recall: 0.22666666666666666\n",
      "\n",
      "Para N = 7000 y n_pair = 80: \n",
      "Precision: 0.175\n",
      "Recall: 0.175\n",
      "\n",
      "Para N = 10000 y n_pair = 20: \n",
      "Precision: 1.0\n",
      "Recall: 1.0\n",
      "\n",
      "Para N = 10000 y n_pair = 25: \n",
      "Precision: 1.0\n",
      "Recall: 1.0\n",
      "\n",
      "Para N = 10000 y n_pair = 30: \n",
      "Precision: 1.0\n",
      "Recall: 1.0\n",
      "\n",
      "Para N = 10000 y n_pair = 35: \n",
      "Precision: 1.0\n",
      "Recall: 1.0\n",
      "\n",
      "Para N = 10000 y n_pair = 40: \n",
      "Precision: 1.0\n",
      "Recall: 1.0\n",
      "\n",
      "Para N = 10000 y n_pair = 45: \n",
      "Precision: 0.9555555555555556\n",
      "Recall: 0.9555555555555556\n",
      "\n",
      "Para N = 10000 y n_pair = 50: \n",
      "Precision: 0.88\n",
      "Recall: 0.88\n",
      "\n",
      "Para N = 10000 y n_pair = 55: \n",
      "Precision: 0.8181818181818182\n",
      "Recall: 0.8181818181818182\n",
      "\n",
      "Para N = 10000 y n_pair = 60: \n",
      "Precision: 0.6\n",
      "Recall: 0.6\n",
      "\n",
      "Para N = 10000 y n_pair = 65: \n",
      "Precision: 0.5538461538461539\n",
      "Recall: 0.5538461538461539\n",
      "\n",
      "Para N = 10000 y n_pair = 70: \n",
      "Precision: 0.32857142857142857\n",
      "Recall: 0.32857142857142857\n",
      "\n",
      "Para N = 10000 y n_pair = 75: \n",
      "Precision: 0.30666666666666664\n",
      "Recall: 0.30666666666666664\n",
      "\n",
      "Para N = 10000 y n_pair = 80: \n",
      "Precision: 0.15\n",
      "Recall: 0.15\n"
     ]
    }
   ],
   "source": [
    "L_plot_Precision = []\n",
    "L_plot_Recall = []\n",
    "for N in [2000, 5000, 7000, 10000]: # (2000,11000,2000):\n",
    "    L_Precision = []\n",
    "    L_Recall = []\n",
    "    for n_pair in range(20,85,5):\n",
    "        # List of relations and features (artificial)\n",
    "        relations = list_symbols(n_pair, \"rel\")\n",
    "        feats = list_symbols(n_pair, \"feat\")\n",
    "        feat_list = list(map(list, zip(relations,feats)))\n",
    "        #Feature matrix for 1 concept\n",
    "        FeatMatt = [[['concepto', x[0], x[1]] for x in feat_list]]\n",
    "        # Encoding dataset\n",
    "        Init_mem( ['concepto'] + relations + feats, FeatMatt, 2, N)\n",
    "        \n",
    "        # Bucle de pruebas de recuperación\n",
    "        counter_p = 0 # Contador de recuperaciones exitosas\n",
    "        counter_r = 0 # contador de recall\n",
    "        for rel in relations:\n",
    "            retrieve = Dict['concepto'] ** Dict[rel]\n",
    "            retrievedSP = retrieve.getLabelID()\n",
    "            if len(retrievedSP) == 1 and retrievedSP[0][0] == rel.lower():\n",
    "                counter_p += 1  #counter de precision... \n",
    "                counter_r += 1  # counter de recall\n",
    "            elif len(retrievedSP) == 1 and retrievedSP[0][0] != rel.lower() :\n",
    "                counter_p += 0\n",
    "                counter_r += 0\n",
    "            elif len(retrievedSP) > 1:\n",
    "                inter = set([xx[0] for xx in retrievedSP]).intersection(set([rel.lower()]))\n",
    "                counter_p = len(inter) / len(retrievedSP)\n",
    "                counter_r = len(inter) \n",
    "                \n",
    "        L_Precision.append(counter_p / len(relations) )\n",
    "        L_Recall.append(counter_r / len(relations) )\n",
    "        print('\\nPara N = {} y n_pair = {}: \\nPrecision: {}\\nRecall: {}'.format(N, n_pair,\n",
    "                                                                                counter_p / len(relations),\n",
    "                                                                                counter_r / len(relations)))\n",
    "    L_plot_Precision.append(L_Precision)\n",
    "    L_plot_Recall.append(L_Recall)"
   ]
  },
  {
   "cell_type": "markdown",
   "metadata": {},
   "source": [
    "### Ploting\n",
    "\n",
    "Because an image is worth a thousands words\n",
    "\n",
    "**Precision**"
   ]
  },
  {
   "cell_type": "code",
   "execution_count": 14,
   "metadata": {},
   "outputs": [
    {
     "data": {
      "image/png": "[encoded data removed]",
      "text/plain": [
       "<Figure size 576x360 with 1 Axes>"
      ]
     },
     "metadata": {
      "needs_background": "light"
     },
     "output_type": "display_data"
    }
   ],
   "source": [
    "fig= plt.figure(figsize=(8,5))\n",
    "\n",
    "for Y in L_plot_Precision:\n",
    "    plt.plot(range(20,85,5), Y)\n",
    "\n",
    "plt.grid()\n",
    "plt.ylabel('Precision', fontsize = 16)\n",
    "plt.ylim(0, 1.1)\n",
    "plt.xlabel('n_pairs', fontsize = 16)\n",
    "plt.legend(['N = 2,000', 'N = 5,000', 'N = 7,000', 'N = 10,000'])\n",
    "plt.savefig('Figure 1', dpi=500)\n",
    "#plt.show()"
   ]
  },
  {
   "cell_type": "markdown",
   "metadata": {},
   "source": [
    "**Recall**"
   ]
  },
  {
   "cell_type": "code",
   "execution_count": 15,
   "metadata": {},
   "outputs": [
    {
     "data": {
      "image/png": "[encoded data removed]",
      "text/plain": [
       "<Figure size 576x360 with 1 Axes>"
      ]
     },
     "metadata": {
      "needs_background": "light"
     },
     "output_type": "display_data"
    }
   ],
   "source": [
    "fig= plt.figure(figsize=(8,5))\n",
    "\n",
    "for Y in L_plot_Recall[1:]:\n",
    "    plt.plot(range(20,85,5), Y)\n",
    "\n",
    "plt.grid()\n",
    "plt.ylabel('Precision', fontsize = 16)\n",
    "plt.xlabel('n_pairs', fontsize = 16)\n",
    "plt.legend(['N = 2,000', 'N = 5,000', 'N = 7,000', 'N = 10,000'])\n",
    "plt.savefig('Figure 1', dpi=500)\n",
    "#plt.show()"
   ]
  },
  {
   "cell_type": "markdown",
   "metadata": {},
   "source": [
    "## Experiment 2.\n",
    "\n",
    "### Same relation multiplying several features.\n",
    "\n",
    "A common case in the encoding of semantic features is that several features are associated to the same relation:\n",
    "\n",
    "$$ SemFeat = A · a + A · b + A · c + B · d + B · e + B · f $$ \n",
    "\n",
    "In this experiment we measure how the storing and retrieving of features changes with these types of semantic features (which are actually more common than the former). \n",
    "\n",
    "### Single relation.\n",
    "The easiest case:\n",
    "\n",
    "$$ SemFeat = A · a + A · b + ... + A · z$$"
   ]
  },
  {
   "cell_type": "code",
   "execution_count": 16,
   "metadata": {},
   "outputs": [
    {
     "name": "stdout",
     "output_type": "stream",
     "text": [
      "All retrieved successfully!\n"
     ]
    }
   ],
   "source": [
    "# Dimensionality of vectors\n",
    "N = 10000\n",
    "\n",
    "# Number of features\n",
    "n_feats = 40\n",
    "\n",
    "# Relation (times n_feats)\n",
    "relations = ['A'] * n_feats\n",
    "\n",
    "# Features\n",
    "feats = list_symbols(n_feats, \"feat\")\n",
    "\n",
    "# Creating 'definition' (giving appropiate format)\n",
    "feat_list = list(map(list, zip(relations,feats)))\n",
    "FeatMatt = [[['concept', x[0], x[1]] for x in feat_list]]\n",
    "\n",
    "# Encoding\n",
    "Init_mem( ['concept'] + relations + feats, FeatMatt, 2, N)\n",
    "\n",
    "\n",
    "# Retrieving loop\n",
    "for rel in set(relations):\n",
    "    retrieve = Dict['concept'] ** Dict[rel]\n",
    "    retrievedSP = retrieve.getLabelID()\n",
    "    #print(retrievedSP)\n",
    "    if len(retrievedSP) == n_feats:\n",
    "        print('All retrieved successfully!')\n"
   ]
  },
  {
   "cell_type": "markdown",
   "metadata": {},
   "source": [
    "### General case\n",
    "\n",
    "There are multiple ways of combining a set of relations with a set of features. \n",
    "In this second experiment we developed several auxiliar functions for creating such combinations and then performed storing and retrieving operations to measure precision and recall. "
   ]
  },
  {
   "cell_type": "markdown",
   "metadata": {},
   "source": [
    "### Auxiliar functions\n",
    "\n",
    "**Mixing relations with multiple features**"
   ]
  },
  {
   "cell_type": "code",
   "execution_count": 17,
   "metadata": {},
   "outputs": [
    {
     "data": {
      "text/plain": [
       "[['A', 'a'], ['A', 'b'], ['A', 'c']]"
      ]
     },
     "execution_count": 17,
     "metadata": {},
     "output_type": "execute_result"
    }
   ],
   "source": [
    "def mix_1rel (relation, L_features):\n",
    "    \"\"\"\"Dado una relación (ej. ['A']) y una lista de features (ej. ['a','b','c']) \n",
    "    regresa la lista de la combinación entre ambos (ej. [['A','a'], ['B,b'],['C','c']] )\"\"\"\n",
    "    z = zip(relation * len(L_features), L_features)\n",
    "    return list(map(list, z))\n",
    "\n",
    "# Example\n",
    "mix_1rel(['A'], ['a','b','c'])"
   ]
  },
  {
   "cell_type": "markdown",
   "metadata": {},
   "source": [
    "**Extending lists**\n",
    "\n",
    "This function combines a vector like: `[['A','a], ['A','b']]` \n",
    "\n",
    "with the vector `[ [['B','c'], ['C','d'], ['C','e']], [['B','c'], ['B','d'], ['C','e']]]` \n",
    "\n",
    "To obtain the list:\n",
    "\n",
    "`[ [['A','a], ['A','b'], ['B','c'], ['C','d'], ['C','e']],  \n",
    "   [['A','a], ['A','b'], ['B','c'], ['B','d'], ['C','e']]]` "
   ]
  },
  {
   "cell_type": "code",
   "execution_count": 18,
   "metadata": {},
   "outputs": [
    {
     "data": {
      "text/plain": [
       "[[['A', 'a'], ['A', 'b'], ['B', 'c'], ['C', 'd'], ['C', 'e']],\n",
       " [['A', 'a'], ['A', 'b'], ['B', 'c'], ['B', 'd'], ['C', 'e']]]"
      ]
     },
     "execution_count": 18,
     "metadata": {},
     "output_type": "execute_result"
    }
   ],
   "source": [
    "def mix_many_rels (L_1rel, L_many_rels):\n",
    "    \"Combinación de listas\"\n",
    "    for x in L_many_rels:\n",
    "        x.extend(L_1rel)\n",
    "        x.sort()\n",
    "    return L_many_rels\n",
    "\n",
    "# Example\n",
    "mix_many_rels([['A','a'], ['A','b']], [ [['B','c'], ['C','d'], ['C','e']], [['B','c'], ['B','d'], ['C','e']] ])"
   ]
  },
  {
   "cell_type": "markdown",
   "metadata": {},
   "source": [
    "#### Recursive function for getting all the combinations between relations / features"
   ]
  },
  {
   "cell_type": "code",
   "execution_count": 19,
   "metadata": {},
   "outputs": [
    {
     "data": {
      "text/plain": [
       "[[['A', 'a'], ['B', 'b'], ['C', 'c'], ['C', 'd'], ['C', 'e'], ['C', 'f']],\n",
       " [['A', 'a'], ['B', 'b'], ['B', 'c'], ['C', 'd'], ['C', 'e'], ['C', 'f']],\n",
       " [['A', 'a'], ['A', 'b'], ['B', 'c'], ['C', 'd'], ['C', 'e'], ['C', 'f']],\n",
       " [['A', 'a'], ['A', 'b'], ['B', 'c'], ['B', 'd'], ['C', 'e'], ['C', 'f']]]"
      ]
     },
     "execution_count": 19,
     "metadata": {},
     "output_type": "execute_result"
    }
   ],
   "source": [
    "def recursive_mixing (L_rel, L_feat):\n",
    "    \"Find all the possible ways to combine a set of relations and features\"\n",
    "    # Caso base:\n",
    "    if len(L_rel) == 1:\n",
    "        return [mix_1rel(L_rel, L_feat)]\n",
    "    else:\n",
    "        Acum = []  # Acumulador de resultados parciales\n",
    "        for i in range(len(L_feat) // len(L_rel)):\n",
    "            aux = mix_many_rels( mix_1rel([L_rel[0]], L_feat[:i+1]), recursive_mixing(L_rel[1:], L_feat[i+1:]) )\n",
    "            \n",
    "            # Guarda resultado parcial\n",
    "            Acum.extend(aux)\n",
    "        return Acum\n",
    "\n",
    "# Example\n",
    "recursive_mixing(['A','B','C'], ['a','b','c','d','e','f'])"
   ]
  },
  {
   "cell_type": "markdown",
   "metadata": {},
   "source": [
    "#### Precision and recall metrics"
   ]
  },
  {
   "cell_type": "code",
   "execution_count": 20,
   "metadata": {},
   "outputs": [],
   "source": [
    "def retrieved_metrics (combination, relt, retrieved):\n",
    "    \"\"\"\"Dada la lista de combinacion actual, la relacion en cuestion y los vectores recuperados da un valor\n",
    "     de desempeño de la recuperacion\"\"\"\n",
    "    # Se obtiene una lista de features asociados a la relacion:\n",
    "    features_relevant = [x[1] for x in combination if x[0] == relt]\n",
    "    # Se obtiene lista de features recuperados\n",
    "    features_retrieved = [x[0] for x in retrieved]\n",
    "    # Se encuentra la intersección entre ambas listas\n",
    "    intersection = set(features_relevant).intersection(set(features_retrieved))\n",
    "    \n",
    "    # Precision & Recall\n",
    "    if len(features_retrieved) > 0:\n",
    "        Prec = len(intersection) / len (features_retrieved)\n",
    "        Recall = len(intersection) / len(features_relevant)\n",
    "    else:\n",
    "        Prec = 0\n",
    "        Recall = 0\n",
    "    \n",
    "    return (Prec, Recall)"
   ]
  },
  {
   "cell_type": "markdown",
   "metadata": {},
   "source": [
    "### Main loop"
   ]
  },
  {
   "cell_type": "code",
   "execution_count": 21,
   "metadata": {},
   "outputs": [
    {
     "name": "stdout",
     "output_type": "stream",
     "text": [
      "0\n",
      "\n",
      "N = 10000, n_rel = 1, n_feat = 38:\n",
      "Mean Precision: 1.0, Mean Recall: 1.0 \n",
      "\n",
      "\n",
      "N = 10000, n_rel = 5, n_feat = 38:\n",
      "Mean Precision: 1.0, Mean Recall: 0.9980207157215463 \n",
      "\n",
      "\n",
      "N = 10000, n_rel = 10, n_feat = 38:\n",
      "Mean Precision: 0.9995, Mean Recall: 0.9978907665537077 \n",
      "\n"
     ]
    },
    {
     "ename": "KeyboardInterrupt",
     "evalue": "",
     "output_type": "error",
     "traceback": [
      "\u001b[1;31m---------------------------------------------------------------------------\u001b[0m",
      "\u001b[1;31mKeyboardInterrupt\u001b[0m                         Traceback (most recent call last)",
      "\u001b[1;32m<ipython-input-21-73df2f8fdd45>\u001b[0m in \u001b[0;36m<module>\u001b[1;34m\u001b[0m\n\u001b[0;32m     14\u001b[0m             \u001b[0mfeats\u001b[0m \u001b[1;33m=\u001b[0m \u001b[0mlist_symbols\u001b[0m\u001b[1;33m(\u001b[0m\u001b[0mn_feats\u001b[0m\u001b[1;33m,\u001b[0m \u001b[1;34m\"feat\"\u001b[0m\u001b[1;33m)\u001b[0m\u001b[1;33m\u001b[0m\u001b[1;33m\u001b[0m\u001b[0m\n\u001b[0;32m     15\u001b[0m             \u001b[1;31m# Generating all possible combinations\u001b[0m\u001b[1;33m\u001b[0m\u001b[1;33m\u001b[0m\u001b[1;33m\u001b[0m\u001b[0m\n\u001b[1;32m---> 16\u001b[1;33m             \u001b[0mcomb\u001b[0m \u001b[1;33m=\u001b[0m \u001b[0mrecursive_mixing\u001b[0m\u001b[1;33m(\u001b[0m\u001b[0mrelations\u001b[0m\u001b[1;33m,\u001b[0m \u001b[0mfeats\u001b[0m\u001b[1;33m)\u001b[0m\u001b[1;33m\u001b[0m\u001b[1;33m\u001b[0m\u001b[0m\n\u001b[0m\u001b[0;32m     17\u001b[0m             \u001b[1;31m# Selecting a sample from all combinations (speeding up the process...)\u001b[0m\u001b[1;33m\u001b[0m\u001b[1;33m\u001b[0m\u001b[1;33m\u001b[0m\u001b[0m\n\u001b[0;32m     18\u001b[0m             \u001b[1;32mif\u001b[0m \u001b[0mlen\u001b[0m\u001b[1;33m(\u001b[0m\u001b[0mcomb\u001b[0m\u001b[1;33m)\u001b[0m \u001b[1;33m>\u001b[0m \u001b[1;36m1000\u001b[0m\u001b[1;33m:\u001b[0m\u001b[1;33m\u001b[0m\u001b[1;33m\u001b[0m\u001b[0m\n",
      "\u001b[1;32m<ipython-input-19-8aa4daeb7fc9>\u001b[0m in \u001b[0;36mrecursive_mixing\u001b[1;34m(L_rel, L_feat)\u001b[0m\n\u001b[0;32m      7\u001b[0m         \u001b[0mAcum\u001b[0m \u001b[1;33m=\u001b[0m \u001b[1;33m[\u001b[0m\u001b[1;33m]\u001b[0m  \u001b[1;31m# Acumulador de resultados parciales\u001b[0m\u001b[1;33m\u001b[0m\u001b[1;33m\u001b[0m\u001b[0m\n\u001b[0;32m      8\u001b[0m         \u001b[1;32mfor\u001b[0m \u001b[0mi\u001b[0m \u001b[1;32min\u001b[0m \u001b[0mrange\u001b[0m\u001b[1;33m(\u001b[0m\u001b[0mlen\u001b[0m\u001b[1;33m(\u001b[0m\u001b[0mL_feat\u001b[0m\u001b[1;33m)\u001b[0m \u001b[1;33m//\u001b[0m \u001b[0mlen\u001b[0m\u001b[1;33m(\u001b[0m\u001b[0mL_rel\u001b[0m\u001b[1;33m)\u001b[0m\u001b[1;33m)\u001b[0m\u001b[1;33m:\u001b[0m\u001b[1;33m\u001b[0m\u001b[1;33m\u001b[0m\u001b[0m\n\u001b[1;32m----> 9\u001b[1;33m             \u001b[0maux\u001b[0m \u001b[1;33m=\u001b[0m \u001b[0mmix_many_rels\u001b[0m\u001b[1;33m(\u001b[0m \u001b[0mmix_1rel\u001b[0m\u001b[1;33m(\u001b[0m\u001b[1;33m[\u001b[0m\u001b[0mL_rel\u001b[0m\u001b[1;33m[\u001b[0m\u001b[1;36m0\u001b[0m\u001b[1;33m]\u001b[0m\u001b[1;33m]\u001b[0m\u001b[1;33m,\u001b[0m \u001b[0mL_feat\u001b[0m\u001b[1;33m[\u001b[0m\u001b[1;33m:\u001b[0m\u001b[0mi\u001b[0m\u001b[1;33m+\u001b[0m\u001b[1;36m1\u001b[0m\u001b[1;33m]\u001b[0m\u001b[1;33m)\u001b[0m\u001b[1;33m,\u001b[0m \u001b[0mrecursive_mixing\u001b[0m\u001b[1;33m(\u001b[0m\u001b[0mL_rel\u001b[0m\u001b[1;33m[\u001b[0m\u001b[1;36m1\u001b[0m\u001b[1;33m:\u001b[0m\u001b[1;33m]\u001b[0m\u001b[1;33m,\u001b[0m \u001b[0mL_feat\u001b[0m\u001b[1;33m[\u001b[0m\u001b[0mi\u001b[0m\u001b[1;33m+\u001b[0m\u001b[1;36m1\u001b[0m\u001b[1;33m:\u001b[0m\u001b[1;33m]\u001b[0m\u001b[1;33m)\u001b[0m \u001b[1;33m)\u001b[0m\u001b[1;33m\u001b[0m\u001b[1;33m\u001b[0m\u001b[0m\n\u001b[0m\u001b[0;32m     10\u001b[0m \u001b[1;33m\u001b[0m\u001b[0m\n\u001b[0;32m     11\u001b[0m             \u001b[1;31m# Guarda resultado parcial\u001b[0m\u001b[1;33m\u001b[0m\u001b[1;33m\u001b[0m\u001b[1;33m\u001b[0m\u001b[0m\n",
      "\u001b[1;32m<ipython-input-18-e9e191ca86aa>\u001b[0m in \u001b[0;36mmix_many_rels\u001b[1;34m(L_1rel, L_many_rels)\u001b[0m\n\u001b[0;32m      3\u001b[0m     \u001b[1;32mfor\u001b[0m \u001b[0mx\u001b[0m \u001b[1;32min\u001b[0m \u001b[0mL_many_rels\u001b[0m\u001b[1;33m:\u001b[0m\u001b[1;33m\u001b[0m\u001b[1;33m\u001b[0m\u001b[0m\n\u001b[0;32m      4\u001b[0m         \u001b[0mx\u001b[0m\u001b[1;33m.\u001b[0m\u001b[0mextend\u001b[0m\u001b[1;33m(\u001b[0m\u001b[0mL_1rel\u001b[0m\u001b[1;33m)\u001b[0m\u001b[1;33m\u001b[0m\u001b[1;33m\u001b[0m\u001b[0m\n\u001b[1;32m----> 5\u001b[1;33m         \u001b[0mx\u001b[0m\u001b[1;33m.\u001b[0m\u001b[0msort\u001b[0m\u001b[1;33m(\u001b[0m\u001b[1;33m)\u001b[0m\u001b[1;33m\u001b[0m\u001b[1;33m\u001b[0m\u001b[0m\n\u001b[0m\u001b[0;32m      6\u001b[0m     \u001b[1;32mreturn\u001b[0m \u001b[0mL_many_rels\u001b[0m\u001b[1;33m\u001b[0m\u001b[1;33m\u001b[0m\u001b[0m\n\u001b[0;32m      7\u001b[0m \u001b[1;33m\u001b[0m\u001b[0m\n",
      "\u001b[1;31mKeyboardInterrupt\u001b[0m: "
     ]
    }
   ],
   "source": [
    "N = 10000 # 2000 5000 7000\n",
    "\n",
    "L_plot_prec = []\n",
    "L_plot_rec = []\n",
    "for k in range(1):\n",
    "    print(k)\n",
    "    L_plot_prec.append([])\n",
    "    L_plot_rec.append([])\n",
    "    for n_rels in [1, 5, 10, 20, 30, 38]: \n",
    "        for n_feats in [38]: #\n",
    "            # Relations\n",
    "            relations = list_symbols(n_rels, \"rel\")\n",
    "            # Features\n",
    "            feats = list_symbols(n_feats, \"feat\")\n",
    "            # Generating all possible combinations\n",
    "            comb = recursive_mixing(relations, feats)\n",
    "            # Selecting a sample from all combinations (speeding up the process...)\n",
    "            if len(comb) > 1000:\n",
    "                comb = random.sample(comb, 1000)\n",
    "            \n",
    "            # Internal loop\n",
    "            # Creating FeattMatt's\n",
    "            Precision_avgs = [] #arrays de promnedios\n",
    "            Recall_avgs = []\n",
    "\n",
    "            for c in comb:\n",
    "                FeatMatt = [[['concept', x[0], x[1]] for x in c]]\n",
    "                # Initializing memory\n",
    "                Init_mem( ['concept'] + relations + feats, FeatMatt, 2, N)\n",
    "                \n",
    "                Precision_avgs.append(0)\n",
    "                Recall_avgs.append(0)\n",
    "\n",
    "                for rel in relations:\n",
    "                    retrieve = Dict['concept'] ** Dict[rel]\n",
    "                    retrievedSP = retrieve.getLabelID()\n",
    "                    # PRECISION Y RECALL\n",
    "                    Precision, Recall = retrieved_metrics(c, rel, retrievedSP)\n",
    "                    \n",
    "                    Precision_avgs[-1] += Precision\n",
    "                    Recall_avgs[-1] += Recall\n",
    "                \n",
    "                # Mean\n",
    "                Precision_avgs[-1] /= len(relations) \n",
    "                Recall_avgs[-1] /= len(relations)\n",
    "\n",
    "            # Average value across all combinations\n",
    "            L_plot_prec[k].append( statistics.mean(Precision_avgs))\n",
    "            L_plot_rec[k].append(statistics.mean(Recall_avgs))\n",
    "            print('\\nN = {}, n_rel = {}, n_feat = {}:'.format(N, n_rels, n_feats))\n",
    "            print('Mean Precision: {}, Mean Recall: {} \\n'.format(L_plot_prec[-1][-1], L_plot_rec[-1][-1])) "
   ]
  },
  {
   "cell_type": "markdown",
   "metadata": {},
   "source": [
    "### Converting to Numpy Array"
   ]
  },
  {
   "cell_type": "code",
   "execution_count": null,
   "metadata": {},
   "outputs": [],
   "source": [
    "Prec = np.array(list(map(np.array, L_plot_prec)))\n",
    "Recc = np.array(list(map(np.array, L_plot_rec)))\n",
    "\n",
    "# Mean across axis 0\n",
    "Prec_mean = Prec.mean(0) \n",
    "Recc_mean = Recc.mean(0) \n",
    "\n",
    "print('Precision:', Prec_mean)\n",
    "print('Recall:', Recc_mean)"
   ]
  },
  {
   "cell_type": "markdown",
   "metadata": {},
   "source": [
    "### Plotting \n",
    "\n",
    "Precision and recall in the same figure. \n",
    "Fixed values: `N = 10,000` and `n_feats = 38`"
   ]
  },
  {
   "cell_type": "code",
   "execution_count": null,
   "metadata": {},
   "outputs": [],
   "source": [
    "%matplotlib inline\n",
    "\n",
    "fig= plt.figure(figsize=(19,10))\n",
    "\n",
    "plt.plot([1, 3, 5, 10, 15, 20, 25, 30, 35], Prec_mean, 'b-')\n",
    "plt.plot([1, 3, 5, 10, 15, 20, 25, 30, 35], Recc_mean, 'k--')\n",
    "    \n",
    "plt.ylim(0, 1.1)\n",
    "plt.legend(['N = 10,000']) #, 'N = 5,000', 'N = 7,000', 'N = 10,000'])\n",
    "plt.grid()\n",
    "#plt.show()"
   ]
  },
  {
   "cell_type": "code",
   "execution_count": null,
   "metadata": {},
   "outputs": [],
   "source": [
    "print(Prec_mean)"
   ]
  },
  {
   "cell_type": "code",
   "execution_count": null,
   "metadata": {},
   "outputs": [],
   "source": [
    "print(Recc_mean)"
   ]
  },
  {
   "cell_type": "markdown",
   "metadata": {},
   "source": [
    "### Final Plots \n",
    "\n",
    "#### Precision"
   ]
  },
  {
   "cell_type": "code",
   "execution_count": null,
   "metadata": {},
   "outputs": [],
   "source": [
    "x = [1, 3, 5, 10, 15, 20, 25, 30, 35, 40]\n",
    "\n",
    "P_mean_2000  = [1. , 0.99820789, 0.9864  ,  0.97261667,  0.956  ,  0.9434, 0.92522667, 0.91351436 , 0.90714286 , .88684211 ]\n",
    "P_mean_5000  = [1. ,  1. , 0.997,  0.9949 ,  0.99233333, 0.987,  0.98388, 0.98181024 , 0.98642857 , 0.97631579 ]\n",
    "P_mean_7000  = [1. ,  1. , 0.999,  0.998 ,  0.99673333, 0.995, 0.99464, 0.99244694 , 0.98714286 , 0.98947368 ]\n",
    "P_mean_10000 = [1. , 0.99982079, 0.99979 ,  0.9995  ,   0.99928667, 0.9989825, 0.99848, 0.99845194, 0.99642857, 1 ] \n",
    "\n",
    "\n",
    "# Plotting\n",
    "fig = plt.figure(figsize=(19,10))\n",
    "\n",
    "plt.plot(x, P_mean_2000, x, P_mean_5000, x, P_mean_7000, x, P_mean_10000)\n",
    "\n",
    "plt.ylim(0, 1.1)\n",
    "plt.legend(['N = 2,000', 'N = 5,000', 'N = 7,000', 'N = 10,000'], fontsize = 12)\n",
    "plt.ylabel('Precision', fontsize = 16)\n",
    "plt.xlabel('n_rels', fontsize = 16)\n",
    "plt.grid()"
   ]
  },
  {
   "cell_type": "markdown",
   "metadata": {},
   "source": [
    "#### Recall"
   ]
  },
  {
   "cell_type": "code",
   "execution_count": null,
   "metadata": {},
   "outputs": [],
   "source": [
    "x = [1, 3, 5, 10, 15, 20, 25, 30, 35, 40]\n",
    "\n",
    "R_mean_2000  = [0.86842105 , 0.90620521 , 0.89919717 , 0.90016827 , 0.89808042 , 0.90260046, 0.89985372, 0.90007753, 0.90047619, .88684211]\n",
    "R_mean_5000  = [0.97368421, 0.98014012, 0.97788565, 0.9792347, 0.9793377, 0.977667, 0.9784401, 0.97873613, 0.9839881,  0.97631579 ]\n",
    "R_mean_7000  = [0.94736842, 0.99373221, 0.9925481,  0.99182344, 0.991687, 0.991769, 0.99231132, 0.99121907, 0.98678571, 0.98947368]\n",
    "R_mean_10000 = [0.99868421, 0.99789051, 0.9980083,  0.99802065, 0.99809504, 0.99806192, 0.99793215, 0.99815142 ,0.99642857, 1]\n",
    "\n",
    "fig = plt.figure(figsize=(19,10))\n",
    "\n",
    "plt.plot(x, R_mean_2000, x, R_mean_5000, x, R_mean_7000, x, R_mean_10000)\n",
    "\n",
    "plt.ylim(0, 1.1)\n",
    "plt.legend(['N = 2,000', 'N = 5,000', 'N = 7,000', 'N = 10,000'], fontsize = 12)\n",
    "plt.ylabel('Recall', fontsize = 16)\n",
    "plt.xlabel('n_rels', fontsize = 16)\n",
    "plt.grid()"
   ]
  },
  {
   "cell_type": "markdown",
   "metadata": {},
   "source": [
    "**Precision & Recall for N = 2,000**"
   ]
  },
  {
   "cell_type": "code",
   "execution_count": null,
   "metadata": {},
   "outputs": [],
   "source": [
    "fig = plt.figure(figsize=(9,5))\n",
    "\n",
    "plt.plot(x, P_mean_2000, 'b', x, R_mean_2000, '--r')\n",
    "plt.ylim(0, 1.1)\n",
    "plt.xlim(0, 42)\n",
    "plt.xlabel('Number of relations', fontsize = 14)\n",
    "# plt.ylabel('Measure')\n",
    "plt.legend(['Precision', 'Recall'], loc = 5, fontsize = 12)\n",
    "plt.grid()\n",
    "plt.savefig('Figure 2', dpi=200)"
   ]
  }
 ],
 "metadata": {
  "kernelspec": {
   "display_name": "Python 3",
   "language": "python",
   "name": "python3"
  },
  "language_info": {
   "codemirror_mode": {
    "name": "ipython",
    "version": 3
   },
   "file_extension": ".py",
   "mimetype": "text/x-python",
   "name": "python",
   "nbconvert_exporter": "python",
   "pygments_lexer": "ipython3",
   "version": "3.7.4"
  }
 },
 "nbformat": 4,
 "nbformat_minor": 2
}
